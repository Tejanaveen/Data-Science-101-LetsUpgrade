{
 "cells": [
  {
   "cell_type": "markdown",
   "metadata": {},
   "source": [
    "## Question 1"
   ]
  },
  {
   "cell_type": "code",
   "execution_count": 1,
   "metadata": {},
   "outputs": [
    {
     "name": "stdout",
     "output_type": "stream",
     "text": [
      "[ 2  5  8 11 14 17 20 23 26 29 32 35 38 41 44 47]\n"
     ]
    }
   ],
   "source": [
    "import numpy as np\n",
    "print(np.array(range(2,50,3)))"
   ]
  },
  {
   "cell_type": "markdown",
   "metadata": {},
   "source": [
    "## Question 2"
   ]
  },
  {
   "cell_type": "code",
   "execution_count": 2,
   "metadata": {},
   "outputs": [
    {
     "name": "stdout",
     "output_type": "stream",
     "text": [
      "10\n",
      "2\n",
      "45\n",
      "32\n",
      "85\n",
      "46\n",
      "52\n",
      "1\n",
      "23\n",
      "2\n",
      "[10  2 45 32 85]\n",
      "[46 52  1 23  2]\n",
      "[10  2 45 32 85 46 52  1 23  2]\n",
      "[ 2 10 32 45 85]\n",
      "[ 1  2 23 46 52]\n"
     ]
    }
   ],
   "source": [
    "import numpy as np\n",
    "a=list()\n",
    "b=list()\n",
    "for i in range(0,5):\n",
    "    a.append(int(input()))\n",
    "for i in range(0,5):\n",
    "    b.append(int(input()))\n",
    "# convert them to array\n",
    "A1=np.array(a)\n",
    "A2=np.array(b)\n",
    "print(A1)\n",
    "print(A2)\n",
    "# concatenate and print array\n",
    "print(np.concatenate((A1,A2),axis=None))\n",
    "# Sorting arrays\n",
    "print(np.sort(A1))\n",
    "print(np.sort(A2))"
   ]
  },
  {
   "cell_type": "markdown",
   "metadata": {},
   "source": [
    "## Question 3"
   ]
  },
  {
   "cell_type": "code",
   "execution_count": 3,
   "metadata": {},
   "outputs": [
    {
     "name": "stdout",
     "output_type": "stream",
     "text": [
      "2\n",
      "6\n"
     ]
    }
   ],
   "source": [
    "import numpy as np\n",
    "a=np.array([[1,2,3],[4,5,6]])\n",
    "print(a.ndim)\n",
    "print(a.size)"
   ]
  },
  {
   "cell_type": "markdown",
   "metadata": {},
   "source": [
    "## Question 4"
   ]
  },
  {
   "cell_type": "code",
   "execution_count": 4,
   "metadata": {},
   "outputs": [
    {
     "name": "stdout",
     "output_type": "stream",
     "text": [
      "1D Array :\n",
      "[1 2 3 4 5 6]\n",
      "2D Array :\n",
      "[[1 2 3]\n",
      " [4 5 6]]\n"
     ]
    }
   ],
   "source": [
    "import numpy as np\n",
    "a=np.array([1,2,3,4,5,6])\n",
    "print(\"1D Array :\")\n",
    "print(a)\n",
    "b=np.reshape(a,(2,3))\n",
    "print(\"2D Array :\")\n",
    "print(b)"
   ]
  },
  {
   "cell_type": "code",
   "execution_count": null,
   "metadata": {},
   "outputs": [],
   "source": []
  }
 ],
 "metadata": {
  "kernelspec": {
   "display_name": "Python 3",
   "language": "python",
   "name": "python3"
  },
  "language_info": {
   "codemirror_mode": {
    "name": "ipython",
    "version": 3
   },
   "file_extension": ".py",
   "mimetype": "text/x-python",
   "name": "python",
   "nbconvert_exporter": "python",
   "pygments_lexer": "ipython3",
   "version": "3.8.3"
  }
 },
 "nbformat": 4,
 "nbformat_minor": 4
}
